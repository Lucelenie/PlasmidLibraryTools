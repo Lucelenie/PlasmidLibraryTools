{
 "cells": [
  {
   "cell_type": "markdown",
   "metadata": {},
   "source": [
    "This is a script that uses BioPython and uniprotenator to analyze our sequencing data."
   ]
  },
  {
   "cell_type": "code",
   "execution_count": null,
   "metadata": {
    "collapsed": true
   },
   "outputs": [],
   "source": []
  },
  {
   "cell_type": "code",
   "execution_count": 34,
   "metadata": {
    "collapsed": true
   },
   "outputs": [],
   "source": [
    "from Bio.Seq import Seq\n",
    "import string\n",
    "\n",
    "from urllib2 import urlopen\n",
    "from lxml import objectify\n",
    "\n",
    "from Bio import pairwise2"
   ]
  },
  {
   "cell_type": "code",
   "execution_count": 5,
   "metadata": {
    "collapsed": true
   },
   "outputs": [],
   "source": [
    "uniprotID = 'P12931'\n",
    "filename = '../sequencing data by clone/18 - Src GK/SrcGK-T7-Term.seq'"
   ]
  },
  {
   "cell_type": "code",
   "execution_count": 26,
   "metadata": {
    "collapsed": false
   },
   "outputs": [],
   "source": [
    "def rev_sequencing_results(filename):\n",
    "    with open(filename, 'r') as f:\n",
    "        sequence_rough = f.readlines()[1:]\n",
    "    sequence_rough = string.join(sequence_rough)\n",
    "    nucleotide_sequence = sequence_rough.replace('\\n ','').replace('\\n','')\n",
    "    seq = Seq(nucleotide_sequence)\n",
    "    reverse_complement = seq.reverse_complement()\n",
    "    print ':::FIRST READING FRAME:::'\n",
    "    print reverse_complement.translate()\n",
    "    print ':::SECOND READING FRAME:::'\n",
    "    print reverse_complement[1:].translate()\n",
    "    print ':::THIRD READING FRAME:::'\n",
    "    print reverse_complement[2:].translate()"
   ]
  },
  {
   "cell_type": "code",
   "execution_count": 27,
   "metadata": {
    "collapsed": false
   },
   "outputs": [
    {
     "name": "stdout",
     "output_type": "stream",
     "text": [
      ":::FIRST READING FRAME:::\n",
      "TXXPTTEXLXXXGPYADPGTRQGRVGKSPGSRCGWR*SWGRAALERSGWGPGTAPPEXP*RL*SPAPCPRRPSCRKPK**RXSGMRSWFSCTQWCRKSPSTSSLST*ARGASWIS*RERPASTCGCHSSSIWLLRLHPAWPMWRG*TTCTETCGRPTSWWGRTWCARWLTLGWHASSRTTSTQHGKVPSSPSSGQPPRQPSMAGSPSSRMSGPSASC*LS*PPRAGCHTQGWSTGRCWTRWRGATACPARPSAPSRCMTSCASAGGRNLRSGPLLSTCRPSWRTTSPRQSPSTSLERTYRDPNSSSVDKXXAALEHHHHHH*DPAANKXXXXXXXX\n",
      ":::SECOND READING FRAME:::\n",
      "RXSQRPKXXXXXXHMQTQGLAKDAXGNPPGVAAAGGEAGAGLLWRGLDGDLERHHQSXHKDSEARHHVPGGLPAGSPSDEEXPA*EAGSAVRSGVGRAHLHRH*VHEQGEPPGFPEGRDRQVPAAATARRYGCSDCIRHGLCGEDELRAPRPAGGQHPGGGEPGVQGG*LWAGTPHRGQRVHSTARCQVPHQVDSPRGSPLWPVHHQVGCLVLRHPAD*ADHQGPGAIPRDGQQGGAGPGGEGLPHALPARVPRVAA*PHVPVLAEGT*GAAHF*VPAGLPGGLLHLDRAPVPAWREPIGIRIRAPSTSXRPHSSTTTTTTEIRLLTKXEXXXXXX\n",
      ":::THIRD READING FRAME:::\n",
      "DXPNDRXPXLXRXICRPRDSPRTRXEIPRESLRLEVKLGQGCFGEVWMGTWNGTTRVXIKTLKPGTMSPEAFLQEAQVMKKXRHEKLVQLYAVVSEEPIYIVIEYMSKGSLLDFLKGETGKYLRLPQLVDMAAQIASGMAYVERMNYVHRDLRAANILVGENLVCKVADFGLARLIEDNEYTARQGAKFPIKWTAPEAALYGRFTIKSDVWSFGILLTELTTKGRVPYPGMVNREVLDQVERGYRMPCPPECPESLHDLMCQCWRKEPEERPTFEYLQAFLEDYFTSTEPQYQPGENL*GSEFELRRQAXGRTRAPPPPPLRSGC*QXXXXXXXX\n"
     ]
    }
   ],
   "source": [
    "rev_sequencing_results(filename)"
   ]
  },
  {
   "cell_type": "code",
   "execution_count": 28,
   "metadata": {
    "collapsed": true
   },
   "outputs": [],
   "source": [
    "def rev_sequencing_pick_frame(filename,frame):\n",
    "    with open(filename, 'r') as f:\n",
    "        sequence_rough = f.readlines()[1:]\n",
    "    sequence_rough = string.join(sequence_rough)\n",
    "    nucleotide_sequence = sequence_rough.replace('\\n ','').replace('\\n','')\n",
    "    seq = Seq(nucleotide_sequence)\n",
    "    reverse_complement = seq.reverse_complement()\n",
    "    sequencing_result = str(reverse_complement[frame:].translate())\n",
    "    \n",
    "    return sequencing_result"
   ]
  },
  {
   "cell_type": "code",
   "execution_count": 29,
   "metadata": {
    "collapsed": false
   },
   "outputs": [],
   "source": [
    "sequencing_result = rev_sequencing_pick_frame(filename,2)"
   ]
  },
  {
   "cell_type": "code",
   "execution_count": 30,
   "metadata": {
    "collapsed": false
   },
   "outputs": [
    {
     "data": {
      "text/plain": [
       "'DXPNDRXPXLXRXICRPRDSPRTRXEIPRESLRLEVKLGQGCFGEVWMGTWNGTTRVXIKTLKPGTMSPEAFLQEAQVMKKXRHEKLVQLYAVVSEEPIYIVIEYMSKGSLLDFLKGETGKYLRLPQLVDMAAQIASGMAYVERMNYVHRDLRAANILVGENLVCKVADFGLARLIEDNEYTARQGAKFPIKWTAPEAALYGRFTIKSDVWSFGILLTELTTKGRVPYPGMVNREVLDQVERGYRMPCPPECPESLHDLMCQCWRKEPEERPTFEYLQAFLEDYFTSTEPQYQPGENL*GSEFELRRQAXGRTRAPPPPPLRSGC*QXXXXXXXX'"
      ]
     },
     "execution_count": 30,
     "metadata": {},
     "output_type": "execute_result"
    }
   ],
   "source": [
    "sequencing_result"
   ]
  },
  {
   "cell_type": "code",
   "execution_count": 42,
   "metadata": {
    "collapsed": true
   },
   "outputs": [],
   "source": [
    "def uniprot_sequence(uniprotID):\n",
    "\n",
    "    # Define url from which to download xml.\n",
    "    url='http://www.uniprot.org/uniprot/'\n",
    "    r1 = urlopen(url+'%s' % uniprotID +'.xml')\n",
    "\n",
    "    # Read xml file.\n",
    "    my_xml = r1.read()\n",
    "    # Take out annoying head that makes xml file difficult to parse.\n",
    "    my_xml = my_xml.replace('<uniprot xmlns=\"http://uniprot.org/uniprot\" xmlns:xsi=\"http://www.w3.org/2001/XMLSchema-instance\" xsi:schemaLocation=\"http://uniprot.org/uniprot http://www.uniprot.org/support/docs/uniprot.xsd\">','<uniprot>', 1)\n",
    "\n",
    "    # Write xml file.\n",
    "    with open(\"%s.xml\" % uniprotID,\"w\") as file:\n",
    "        file.write(my_xml)\n",
    "\n",
    "    # Define uniprot sequence from xml file:\n",
    "    root = objectify.fromstring(my_xml)\n",
    "    uniprot_sequence = [element.text for element in root.findall('.//sequence')]\n",
    "    \n",
    "    return uniprot_sequence"
   ]
  },
  {
   "cell_type": "code",
   "execution_count": 43,
   "metadata": {
    "collapsed": false,
    "scrolled": true
   },
   "outputs": [],
   "source": [
    "uniprot_sequence = uniprot_sequence(uniprotID)"
   ]
  },
  {
   "cell_type": "code",
   "execution_count": 44,
   "metadata": {
    "collapsed": false
   },
   "outputs": [
    {
     "data": {
      "text/plain": [
       "'\\nMGSNKSKPKDASQRRRSLEPAENVHGAGGGAFPASQTPSKPASADGHRGPSAAFAPAAAE\\nPKLFGGFNSSDTVTSPQRAGPLAGGVTTFVALYDYESRTETDLSFKKGERLQIVNNTEGD\\nWWLAHSLSTGQTGYIPSNYVAPSDSIQAEEWYFGKITRRESERLLLNAENPRGTFLVRES\\nETTKGAYCLSVSDFDNAKGLNVKHYKIRKLDSGGFYITSRTQFNSLQQLVAYYSKHADGL\\nCHRLTTVCPTSKPQTQGLAKDAWEIPRESLRLEVKLGQGCFGEVWMGTWNGTTRVAIKTL\\nKPGTMSPEAFLQEAQVMKKLRHEKLVQLYAVVSEEPIYIVTEYMSKGSLLDFLKGETGKY\\nLRLPQLVDMAAQIASGMAYVERMNYVHRDLRAANILVGENLVCKVADFGLARLIEDNEYT\\nARQGAKFPIKWTAPEAALYGRFTIKSDVWSFGILLTELTTKGRVPYPGMVNREVLDQVER\\nGYRMPCPPECPESLHDLMCQCWRKEPEERPTFEYLQAFLEDYFTSTEPQYQPGENL\\n'"
      ]
     },
     "execution_count": 44,
     "metadata": {},
     "output_type": "execute_result"
    }
   ],
   "source": [
    "uniprot_sequence[2]"
   ]
  },
  {
   "cell_type": "code",
   "execution_count": 45,
   "metadata": {
    "collapsed": false
   },
   "outputs": [],
   "source": [
    "uniprot_sequence = uniprot_sequence[2].replace('\\n','')"
   ]
  },
  {
   "cell_type": "code",
   "execution_count": 46,
   "metadata": {
    "collapsed": false
   },
   "outputs": [
    {
     "data": {
      "text/plain": [
       "'MGSNKSKPKDASQRRRSLEPAENVHGAGGGAFPASQTPSKPASADGHRGPSAAFAPAAAEPKLFGGFNSSDTVTSPQRAGPLAGGVTTFVALYDYESRTETDLSFKKGERLQIVNNTEGDWWLAHSLSTGQTGYIPSNYVAPSDSIQAEEWYFGKITRRESERLLLNAENPRGTFLVRESETTKGAYCLSVSDFDNAKGLNVKHYKIRKLDSGGFYITSRTQFNSLQQLVAYYSKHADGLCHRLTTVCPTSKPQTQGLAKDAWEIPRESLRLEVKLGQGCFGEVWMGTWNGTTRVAIKTLKPGTMSPEAFLQEAQVMKKLRHEKLVQLYAVVSEEPIYIVTEYMSKGSLLDFLKGETGKYLRLPQLVDMAAQIASGMAYVERMNYVHRDLRAANILVGENLVCKVADFGLARLIEDNEYTARQGAKFPIKWTAPEAALYGRFTIKSDVWSFGILLTELTTKGRVPYPGMVNREVLDQVERGYRMPCPPECPESLHDLMCQCWRKEPEERPTFEYLQAFLEDYFTSTEPQYQPGENL'"
      ]
     },
     "execution_count": 46,
     "metadata": {},
     "output_type": "execute_result"
    }
   ],
   "source": [
    "uniprot_sequence"
   ]
  },
  {
   "cell_type": "code",
   "execution_count": null,
   "metadata": {
    "collapsed": true
   },
   "outputs": [],
   "source": []
  },
  {
   "cell_type": "code",
   "execution_count": 47,
   "metadata": {
    "collapsed": false
   },
   "outputs": [
    {
     "data": {
      "text/plain": [
       "('---------D-------X-P--N---------------------D--R------------------------------X-P-------------------X-L----X-R-------------------------------------------X-I----C-R-------P------------------------------------R--D-------SPRT---------------------R------------------X-EIPRESLRLEVKLGQGCFGEVWMGTWNGTTRVXIKTLKPGTMSPEAFLQEAQVMKKXRHEKLVQLYAVVSEEPIYIVIEYMSKGSLLDFLKGETGKYLRLPQLVDMAAQIASGMAYVERMNYVHRDLRAANILVGENLVCKVADFGLARLIEDNEYTARQGAKFPIKWTAPEAALYGRFTIKSDVWSFGILLTELTTKGRVPYPGMVNREVLDQVERGYRMPCPPECPESLHDLMCQCWRKEPEERPTFEYLQAFLEDYFTSTEPQYQPGENL*GSEFELRRQAXGRTRAPPPPPLRSGC*QXXXXXXXX',\n",
       " 'MGSNKSKPKDASQRRRSLEPAENVHGAGGGAFPASQTPSKPASADGHRGPSAAFAPAAAEPKLFGGFNSSDTVTSPQRAGPLAGGVTTFVALYDYESRTETDLSFKKGERLQIVNNTEGDWWLAHSLSTGQTGYIPSNYVAPSDSIQAEEWYFGKITRRESERLLLNAENPRGTFLVRESETTKGAYCLSVSDFDNAKGLNVKHYKIRKLDSGGFYITS-RTQFNSLQQLVAYYSKHADGLCHRLTTVCPTSKPQTQGLAKDAWEIPRESLRLEVKLGQGCFGEVWMGTWNGTTRVAIKTLKPGTMSPEAFLQEAQVMKKLRHEKLVQLYAVVSEEPIYIVTEYMSKGSLLDFLKGETGKYLRLPQLVDMAAQIASGMAYVERMNYVHRDLRAANILVGENLVCKVADFGLARLIEDNEYTARQGAKFPIKWTAPEAALYGRFTIKSDVWSFGILLTELTTKGRVPYPGMVNREVLDQVERGYRMPCPPECPESLHDLMCQCWRKEPEERPTFEYLQAFLEDYFTSTEPQYQPGEN-----------------------L--------------',\n",
       " 287.0,\n",
       " 0,\n",
       " 574)"
      ]
     },
     "execution_count": 47,
     "metadata": {},
     "output_type": "execute_result"
    }
   ],
   "source": [
    "alignments = pairwise2.align.globalxx(sequencing_result, uniprot_sequence)\n",
    "alignments[0]"
   ]
  },
  {
   "cell_type": "code",
   "execution_count": 14,
   "metadata": {
    "collapsed": false
   },
   "outputs": [],
   "source": []
  },
  {
   "cell_type": "markdown",
   "metadata": {
    "collapsed": true
   },
   "source": [
    "Cool! What about our forward sequencing data?"
   ]
  },
  {
   "cell_type": "code",
   "execution_count": 48,
   "metadata": {
    "collapsed": true
   },
   "outputs": [],
   "source": [
    "filename = '../sequencing data by clone/18 - Src GK/SrcGK-T7.seq'"
   ]
  },
  {
   "cell_type": "code",
   "execution_count": 49,
   "metadata": {
    "collapsed": true
   },
   "outputs": [],
   "source": [
    "def for_sequencing_results(filename):\n",
    "    with open(filename, 'r') as f:\n",
    "        sequence_rough = f.readlines()[1:]\n",
    "    sequence_rough = string.join(sequence_rough)\n",
    "    nucleotide_sequence = sequence_rough.replace('\\n ','').replace('\\n','')\n",
    "    seq = Seq(nucleotide_sequence)\n",
    "    reverse_complement = seq.reverse_complement()\n",
    "    print ':::FIRST READING FRAME:::'\n",
    "    print seq.translate()\n",
    "    print ':::SECOND READING FRAME:::'\n",
    "    print seq[1:].translate()\n",
    "    print ':::THIRD READING FRAME:::'\n",
    "    print seq[2:].translate()"
   ]
  },
  {
   "cell_type": "code",
   "execution_count": 50,
   "metadata": {
    "collapsed": false
   },
   "outputs": [
    {
     "name": "stdout",
     "output_type": "stream",
     "text": [
      ":::FIRST READING FRAME:::\n",
      "XXXXXXXX*NNFV*L*EGDIPWAAAIIIIITITISQRPKTFTSRAICRPRDSPRTRGKSPGSRCGWR*SWGRAALERSGWGPGTAPPEWP*RL*SPAPCPRRPSCRKPK**RSSGMRSWFSCTQWCRKSPSTSSLST*ARGASWIS*RERPASTCGCHSSSIWLLRLHPAWPMWRG*TTCTETCGRPTSWWGRTWCARWLTLGWHASSRTTSTQHGKVPSSPSSGQPPRQPSMAGSPSSRMSGPSASC*LS*PPRAGCHTQGWSTGRCWTRWRGATACPARPXAPSRCMTSCASAGGRNLRSGPLLSTCRXSWRTTSSRQXPVPAXXXL*GSXXELRRXLAAALEHXXHXHX\n",
      ":::SECOND READING FRAME:::\n",
      "XXXXXXXXRIILFNFKKEIYHGQQPSSSSSRLRYPNDRKPLLPGPYADPGTRQGRVGNPPGVAAAGGEAGAGLLWRGLDGDLERHHQSGHKDSEARHHVPGGLPAGSPSDEEAPA*EAGSAVRSGVGRAHLHRH*VHEQGEPPGFPEGRDRQVPAAATARRYGCSDCIRHGLCGEDELRAPRPAGGQHPGGGEPGVQGG*LWAGTPHRGQRVHSTARCQVPHQVDSPRGSPLWPVHHQVGCLVLRHPAD*ADHQGPGAIPRDGQQGGAGPGGEGLPHALPARXPRVAA*PHVPVLAEGT*GAAHF*VPAGLPGGLLHLDRXQYQPXRXYRXPXSSSVXSLXPHSSTXXTXT\n",
      ":::THIRD READING FRAME:::\n",
      "XXXXXXXLE*FCLTLRRRYTMGSSHHHHHHDYDIPTTENLYFQGHMQTQGLAKDAWEIPRESLRLEVKLGQGCFGEVWMGTWNGTTRVAIKTLKPGTMSPEAFLQEAQVMKKLRHEKLVQLYAVVSEEPIYIVIEYMSKGSLLDFLKGETGKYLRLPQLVDMAAQIASGMAYVERMNYVHRDLRAANILVGENLVCKVADFGLARLIEDNEYTARQGAKFPIKWTAPEAALYGRFTIKSDVWSFGILLTELTTKGRVPYPGMVNREVLDQVERGYRMPCPPXCPESLHDLMCQCWRKEPEERPTFEYLQXFLEDYFISTXPSTSLXEXIGXXXRAPSXACXRTRAPXXPPL\n"
     ]
    }
   ],
   "source": [
    "for_sequencing_results(filename)"
   ]
  },
  {
   "cell_type": "code",
   "execution_count": 51,
   "metadata": {
    "collapsed": true
   },
   "outputs": [],
   "source": [
    "def for_sequencing_pick_frame(filename,frame):\n",
    "    with open(filename, 'r') as f:\n",
    "        sequence_rough = f.readlines()[1:]\n",
    "    sequence_rough = string.join(sequence_rough)\n",
    "    nucleotide_sequence = sequence_rough.replace('\\n ','').replace('\\n','')\n",
    "    seq = Seq(nucleotide_sequence)\n",
    "    reverse_complement = seq.reverse_complement()\n",
    "    sequencing_result = str(seq[frame:].translate())\n",
    "    \n",
    "    return sequencing_result"
   ]
  },
  {
   "cell_type": "code",
   "execution_count": 53,
   "metadata": {
    "collapsed": false
   },
   "outputs": [],
   "source": [
    "sequencing_result = for_sequencing_pick_frame(filename,2)"
   ]
  },
  {
   "cell_type": "code",
   "execution_count": 54,
   "metadata": {
    "collapsed": false
   },
   "outputs": [
    {
     "data": {
      "text/plain": [
       "'XXXXXXXLE*FCLTLRRRYTMGSSHHHHHHDYDIPTTENLYFQGHMQTQGLAKDAWEIPRESLRLEVKLGQGCFGEVWMGTWNGTTRVAIKTLKPGTMSPEAFLQEAQVMKKLRHEKLVQLYAVVSEEPIYIVIEYMSKGSLLDFLKGETGKYLRLPQLVDMAAQIASGMAYVERMNYVHRDLRAANILVGENLVCKVADFGLARLIEDNEYTARQGAKFPIKWTAPEAALYGRFTIKSDVWSFGILLTELTTKGRVPYPGMVNREVLDQVERGYRMPCPPXCPESLHDLMCQCWRKEPEERPTFEYLQXFLEDYFISTXPSTSLXEXIGXXXRAPSXACXRTRAPXXPPL'"
      ]
     },
     "execution_count": 54,
     "metadata": {},
     "output_type": "execute_result"
    }
   ],
   "source": [
    "sequencing_result"
   ]
  },
  {
   "cell_type": "code",
   "execution_count": 55,
   "metadata": {
    "collapsed": false
   },
   "outputs": [
    {
     "data": {
      "text/plain": [
       "('------------X-XXXXXXL-----------------------------------------E----*-F------------C-L-----T---L-----R-----------R-----RYTMG--------S--------S---HHHHHHD-------Y-D-I--------------P--T--------T---------------E-N--------L-----Y------F----Q----------G--H---------M-QTQGLAKDAWEIPRESLRLEVKLGQGCFGEVWMGTWNGTTRVAIKTLKPGTMSPEAFLQEAQVMKKLRHEKLVQLYAVVSEEPIYIVIEYMSKGSLLDFLKGETGKYLRLPQLVDMAAQIASGMAYVERMNYVHRDLRAANILVGENLVCKVADFGLARLIEDNEYTARQGAKFPIKWTAPEAALYGRFTIKSDVWSFGILLTELTTKGRVPYPGMVNREVLDQVERGYRMPCPPXCPESLHDLMCQCWRKEPEERPTFEYLQXFLEDYFISTXPSTSLXEXIGXXXRAPSXACXRTRAP-XXPPL',\n",
       " 'MGSNKSKPKDASQRR-R-S-LEPAENVHGAGGGAFPASQTPSKPASADGHRGPSAAFAPAAAEPKLFGGFNSSDTVTSPQRAGPLAGGVTTFVALYDYESRTETDLSFKKGERLQIVNN-TEGDWWLAHSLSTGQTGYIPSNYVA-P-S-DSIQAEEWYFGKITRRESERLLLNAENPRGTFLVRESETTKGAYCLSVSDFDNAKGLNVKHYKIRKLDSGGFYITSRTQFNSLQQLVAYYSKHADGLCHRLTTVCPTSKPQTQGLAKDAWEIPRESLRLEVKLGQGCFGEVWMGTWNGTTRVAIKTLKPGTMSPEAFLQEAQVMKKLRHEKLVQLYAVVSEEPIYIVTEYMSKGSLLDFLKGETGKYLRLPQLVDMAAQIASGMAYVERMNYVHRDLRAANILVGENLVCKVADFGLARLIEDNEYTARQGAKFPIKWTAPEAALYGRFTIKSDVWSFGILLTELTTKGRVPYPGMVNREVLDQVERGYRMPCPPECPESLHDLMCQCWRKEPEERPTFEYLQAFLEDYF--T--ST---E--------P---Q-Y-Q-PGE-N-L',\n",
       " 299.0,\n",
       " 0,\n",
       " 566)"
      ]
     },
     "execution_count": 55,
     "metadata": {},
     "output_type": "execute_result"
    }
   ],
   "source": [
    "alignments = pairwise2.align.globalxx(sequencing_result, uniprot_sequence)\n",
    "alignments[0]"
   ]
  },
  {
   "cell_type": "markdown",
   "metadata": {},
   "source": [
    "Is there a way to get this analysis to tell us what the uniprot stop and start numbers are and what the linker and HisTag are?"
   ]
  },
  {
   "cell_type": "markdown",
   "metadata": {},
   "source": [
    "NEXT: Make same function for forward and reverse and put it into a module in PlasmidLibraryTools/PlasmidLibraryTools/ directory!"
   ]
  },
  {
   "cell_type": "code",
   "execution_count": null,
   "metadata": {
    "collapsed": true
   },
   "outputs": [],
   "source": []
  }
 ],
 "metadata": {
  "kernelspec": {
   "display_name": "Python 2",
   "language": "python",
   "name": "python2"
  },
  "language_info": {
   "codemirror_mode": {
    "name": "ipython",
    "version": 2
   },
   "file_extension": ".py",
   "mimetype": "text/x-python",
   "name": "python",
   "nbconvert_exporter": "python",
   "pygments_lexer": "ipython2",
   "version": "2.7.11"
  }
 },
 "nbformat": 4,
 "nbformat_minor": 0
}
