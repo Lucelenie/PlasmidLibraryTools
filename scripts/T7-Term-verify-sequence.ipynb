{
 "cells": [
  {
   "cell_type": "markdown",
   "metadata": {},
   "source": [
    "This is a script that uses BioPython and uniprotenator to analyze our sequencing data."
   ]
  },
  {
   "cell_type": "code",
   "execution_count": null,
   "metadata": {
    "collapsed": true
   },
   "outputs": [],
   "source": []
  },
  {
   "cell_type": "code",
   "execution_count": 1,
   "metadata": {
    "collapsed": true
   },
   "outputs": [],
   "source": [
    "from Bio.Seq import Seq\n",
    "import string\n",
    "from Bio import pairwise2"
   ]
  },
  {
   "cell_type": "code",
   "execution_count": 2,
   "metadata": {
    "collapsed": true
   },
   "outputs": [],
   "source": [
    "filename = '../sequencing data by clone/18 - Src GK/SrcGK-T7-Term.seq'"
   ]
  },
  {
   "cell_type": "code",
   "execution_count": 3,
   "metadata": {
    "collapsed": false
   },
   "outputs": [],
   "source": [
    "with open(filename, 'r') as f:\n",
    "    sequence_rough = f.readlines()[1:]"
   ]
  },
  {
   "cell_type": "code",
   "execution_count": 4,
   "metadata": {
    "collapsed": false
   },
   "outputs": [
    {
     "data": {
      "text/plain": [
       "['NNNNNNNNNNNNNNNCNNTTCNNNCTTTGTTAGCAGCCGGATCTCAGTGGTGGTGGTGGTGGTGCTCGAGTGCGGCCGNN\\n',\n",
       " 'NGCTTGTCGACGGAGCTCGAATTCGGATCCCTATAGGTTCTCTCCAGGCTGGTACTGGGGCTCTGTCGAGGTGAAGTAGT\\n',\n",
       " 'CCTCCAGGAAGGCCTGCAGGTACTCAAAAGTGGGCCGCTCCTCAGGTTCCTTCCGCCAGCACTGGCACATGAGGTCATGC\\n',\n",
       " 'AGCGACTCGGGGCACTCGGGCGGGCAGGGCATGCGGTAGCCCCTCTCCACCTGGTCCAGCACCTCCCTGTTGACCATCCC\\n',\n",
       " 'TGGGTATGGCACCCGGCCCTTGGTGGTCAGCTCAGTCAGCAGGATGCCGAAGGACCAGACATCCGACTTGATGGTGAACC\\n',\n",
       " 'GGCCATAGAGGGCTGCCTCGGGGGCTGTCCACTTGATGGGGAACTTGGCACCTTGCCGTGCTGTGTACTCGTTGTCCTCG\\n',\n",
       " 'ATGAGGCGTGCCAGCCCAAAGTCAGCCACCTTGCACACCAGGTTCTCCCCCACCAGGATGTTGGCCGCCCGCAGGTCTCG\\n',\n",
       " 'GTGCACGTAGTTCATCCTCTCCACATAGGCCATGCCGGATGCAATCTGAGCAGCCATATCGACGAGCTGTGGCAGCCGCA\\n',\n",
       " 'GGTACTTGCCGGTCTCTCCCTTCAGGAAATCCAGGAGGCTCCCCTTGCTCATGTACTCAATGACGATGTAGATGGGCTCT\\n',\n",
       " 'TCCGACACCACTGCGTACAGCTGAACCAGCTTCTCATGCCGGANCTTCTTCATCACTTGGGCTTCCTGCAGGAAGGCCTC\\n',\n",
       " 'CGGGGACATGGTGCCGGGCTTCAGAGTCTTTATGGNCACTCTGGTGGTGCCGTTCCAGGTCCCCATCCAGACCTCTCCAA\\n',\n",
       " 'AGCAGCCCTGCCCCAGCTTCACCTCCAGCCGCAGCGACTCCCGGGGGATTTCCCNACGCGTCCTTGGCGAGTCCCTGGGT\\n',\n",
       " 'CTGCATATGGNCCTNGNAAGNNAAGGNTTTCGGTCGTTGGGANNATCGT\\n']"
      ]
     },
     "execution_count": 4,
     "metadata": {},
     "output_type": "execute_result"
    }
   ],
   "source": [
    "sequence_rough"
   ]
  },
  {
   "cell_type": "code",
   "execution_count": 5,
   "metadata": {
    "collapsed": true
   },
   "outputs": [],
   "source": [
    "sequence_rough = string.join(sequence_rough)\n",
    "nucleotide_sequence = sequence_rough.replace('\\n ','').replace('\\n','')"
   ]
  },
  {
   "cell_type": "code",
   "execution_count": 6,
   "metadata": {
    "collapsed": false
   },
   "outputs": [
    {
     "data": {
      "text/plain": [
       "'NNNNNNNNNNNNNNNCNNTTCNNNCTTTGTTAGCAGCCGGATCTCAGTGGTGGTGGTGGTGGTGCTCGAGTGCGGCCGNNNGCTTGTCGACGGAGCTCGAATTCGGATCCCTATAGGTTCTCTCCAGGCTGGTACTGGGGCTCTGTCGAGGTGAAGTAGTCCTCCAGGAAGGCCTGCAGGTACTCAAAAGTGGGCCGCTCCTCAGGTTCCTTCCGCCAGCACTGGCACATGAGGTCATGCAGCGACTCGGGGCACTCGGGCGGGCAGGGCATGCGGTAGCCCCTCTCCACCTGGTCCAGCACCTCCCTGTTGACCATCCCTGGGTATGGCACCCGGCCCTTGGTGGTCAGCTCAGTCAGCAGGATGCCGAAGGACCAGACATCCGACTTGATGGTGAACCGGCCATAGAGGGCTGCCTCGGGGGCTGTCCACTTGATGGGGAACTTGGCACCTTGCCGTGCTGTGTACTCGTTGTCCTCGATGAGGCGTGCCAGCCCAAAGTCAGCCACCTTGCACACCAGGTTCTCCCCCACCAGGATGTTGGCCGCCCGCAGGTCTCGGTGCACGTAGTTCATCCTCTCCACATAGGCCATGCCGGATGCAATCTGAGCAGCCATATCGACGAGCTGTGGCAGCCGCAGGTACTTGCCGGTCTCTCCCTTCAGGAAATCCAGGAGGCTCCCCTTGCTCATGTACTCAATGACGATGTAGATGGGCTCTTCCGACACCACTGCGTACAGCTGAACCAGCTTCTCATGCCGGANCTTCTTCATCACTTGGGCTTCCTGCAGGAAGGCCTCCGGGGACATGGTGCCGGGCTTCAGAGTCTTTATGGNCACTCTGGTGGTGCCGTTCCAGGTCCCCATCCAGACCTCTCCAAAGCAGCCCTGCCCCAGCTTCACCTCCAGCCGCAGCGACTCCCGGGGGATTTCCCNACGCGTCCTTGGCGAGTCCCTGGGTCTGCATATGGNCCTNGNAAGNNAAGGNTTTCGGTCGTTGGGANNATCGT'"
      ]
     },
     "execution_count": 6,
     "metadata": {},
     "output_type": "execute_result"
    }
   ],
   "source": [
    "nucleotide_sequence"
   ]
  },
  {
   "cell_type": "code",
   "execution_count": 7,
   "metadata": {
    "collapsed": true
   },
   "outputs": [],
   "source": [
    "seq = Seq(nucleotide_sequence)"
   ]
  },
  {
   "cell_type": "code",
   "execution_count": 8,
   "metadata": {
    "collapsed": false
   },
   "outputs": [
    {
     "name": "stdout",
     "output_type": "stream",
     "text": [
      "ACGATNNTCCCAACGACCGAAANCCTTNNCTTNCNAGGNCCATATGCAGACCCAGGGACTCGCCAAGGACGCGTNGGGAAATCCCCCGGGAGTCGCTGCGGCTGGAGGTGAAGCTGGGGCAGGGCTGCTTTGGAGAGGTCTGGATGGGGACCTGGAACGGCACCACCAGAGTGNCCATAAAGACTCTGAAGCCCGGCACCATGTCCCCGGAGGCCTTCCTGCAGGAAGCCCAAGTGATGAAGAAGNTCCGGCATGAGAAGCTGGTTCAGCTGTACGCAGTGGTGTCGGAAGAGCCCATCTACATCGTCATTGAGTACATGAGCAAGGGGAGCCTCCTGGATTTCCTGAAGGGAGAGACCGGCAAGTACCTGCGGCTGCCACAGCTCGTCGATATGGCTGCTCAGATTGCATCCGGCATGGCCTATGTGGAGAGGATGAACTACGTGCACCGAGACCTGCGGGCGGCCAACATCCTGGTGGGGGAGAACCTGGTGTGCAAGGTGGCTGACTTTGGGCTGGCACGCCTCATCGAGGACAACGAGTACACAGCACGGCAAGGTGCCAAGTTCCCCATCAAGTGGACAGCCCCCGAGGCAGCCCTCTATGGCCGGTTCACCATCAAGTCGGATGTCTGGTCCTTCGGCATCCTGCTGACTGAGCTGACCACCAAGGGCCGGGTGCCATACCCAGGGATGGTCAACAGGGAGGTGCTGGACCAGGTGGAGAGGGGCTACCGCATGCCCTGCCCGCCCGAGTGCCCCGAGTCGCTGCATGACCTCATGTGCCAGTGCTGGCGGAAGGAACCTGAGGAGCGGCCCACTTTTGAGTACCTGCAGGCCTTCCTGGAGGACTACTTCACCTCGACAGAGCCCCAGTACCAGCCTGGAGAGAACCTATAGGGATCCGAATTCGAGCTCCGTCGACAAGCNNNCGGCCGCACTCGAGCACCACCACCACCACCACTGAGATCCGGCTGCTAACAAAGNNNGAANNGNNNNNNNNNNNNNNN\n"
     ]
    }
   ],
   "source": [
    "print seq.reverse_complement()"
   ]
  },
  {
   "cell_type": "code",
   "execution_count": 9,
   "metadata": {
    "collapsed": true
   },
   "outputs": [],
   "source": [
    "reverse_complement = seq.reverse_complement()"
   ]
  },
  {
   "cell_type": "code",
   "execution_count": 10,
   "metadata": {
    "collapsed": false
   },
   "outputs": [
    {
     "name": "stdout",
     "output_type": "stream",
     "text": [
      "TXXPTTEXLXXXGPYADPGTRQGRVGKSPGSRCGWR*SWGRAALERSGWGPGTAPPEXP*RL*SPAPCPRRPSCRKPK**RXSGMRSWFSCTQWCRKSPSTSSLST*ARGASWIS*RERPASTCGCHSSSIWLLRLHPAWPMWRG*TTCTETCGRPTSWWGRTWCARWLTLGWHASSRTTSTQHGKVPSSPSSGQPPRQPSMAGSPSSRMSGPSASC*LS*PPRAGCHTQGWSTGRCWTRWRGATACPARPSAPSRCMTSCASAGGRNLRSGPLLSTCRPSWRTTSPRQSPSTSLERTYRDPNSSSVDKXXAALEHHHHHH*DPAANKXXXXXXXX\n"
     ]
    },
    {
     "name": "stderr",
     "output_type": "stream",
     "text": [
      "/Users/hansons/anaconda/lib/python2.7/site-packages/Bio/Seq.py:1976: BiopythonWarning: Partial codon, len(sequence) not a multiple of three. Explicitly trim the sequence or add trailing N before translation. This may become an error in future.\n",
      "  BiopythonWarning)\n"
     ]
    }
   ],
   "source": [
    "print reverse_complement.translate()"
   ]
  },
  {
   "cell_type": "code",
   "execution_count": 11,
   "metadata": {
    "collapsed": false
   },
   "outputs": [
    {
     "name": "stdout",
     "output_type": "stream",
     "text": [
      "RXSQRPKXXXXXXHMQTQGLAKDAXGNPPGVAAAGGEAGAGLLWRGLDGDLERHHQSXHKDSEARHHVPGGLPAGSPSDEEXPA*EAGSAVRSGVGRAHLHRH*VHEQGEPPGFPEGRDRQVPAAATARRYGCSDCIRHGLCGEDELRAPRPAGGQHPGGGEPGVQGG*LWAGTPHRGQRVHSTARCQVPHQVDSPRGSPLWPVHHQVGCLVLRHPAD*ADHQGPGAIPRDGQQGGAGPGGEGLPHALPARVPRVAA*PHVPVLAEGT*GAAHF*VPAGLPGGLLHLDRAPVPAWREPIGIRIRAPSTSXRPHSSTTTTTTEIRLLTKXEXXXXXX\n"
     ]
    }
   ],
   "source": [
    "print reverse_complement[1:].translate()"
   ]
  },
  {
   "cell_type": "code",
   "execution_count": 12,
   "metadata": {
    "collapsed": false
   },
   "outputs": [
    {
     "name": "stdout",
     "output_type": "stream",
     "text": [
      "DXPNDRXPXLXRXICRPRDSPRTRXEIPRESLRLEVKLGQGCFGEVWMGTWNGTTRVXIKTLKPGTMSPEAFLQEAQVMKKXRHEKLVQLYAVVSEEPIYIVIEYMSKGSLLDFLKGETGKYLRLPQLVDMAAQIASGMAYVERMNYVHRDLRAANILVGENLVCKVADFGLARLIEDNEYTARQGAKFPIKWTAPEAALYGRFTIKSDVWSFGILLTELTTKGRVPYPGMVNREVLDQVERGYRMPCPPECPESLHDLMCQCWRKEPEERPTFEYLQAFLEDYFTSTEPQYQPGENL*GSEFELRRQAXGRTRAPPPPPLRSGC*QXXXXXXXX\n"
     ]
    }
   ],
   "source": [
    "print reverse_complement[2:].translate()"
   ]
  },
  {
   "cell_type": "code",
   "execution_count": 43,
   "metadata": {
    "collapsed": false
   },
   "outputs": [],
   "source": [
    "sequencing_result = str(reverse_complement[2:].translate())"
   ]
  },
  {
   "cell_type": "code",
   "execution_count": 44,
   "metadata": {
    "collapsed": false
   },
   "outputs": [
    {
     "data": {
      "text/plain": [
       "'DXPNDRXPXLXRXICRPRDSPRTRXEIPRESLRLEVKLGQGCFGEVWMGTWNGTTRVXIKTLKPGTMSPEAFLQEAQVMKKXRHEKLVQLYAVVSEEPIYIVIEYMSKGSLLDFLKGETGKYLRLPQLVDMAAQIASGMAYVERMNYVHRDLRAANILVGENLVCKVADFGLARLIEDNEYTARQGAKFPIKWTAPEAALYGRFTIKSDVWSFGILLTELTTKGRVPYPGMVNREVLDQVERGYRMPCPPECPESLHDLMCQCWRKEPEERPTFEYLQAFLEDYFTSTEPQYQPGENL*GSEFELRRQAXGRTRAPPPPPLRSGC*QXXXXXXXX'"
      ]
     },
     "execution_count": 44,
     "metadata": {},
     "output_type": "execute_result"
    }
   ],
   "source": [
    "sequencing_result"
   ]
  },
  {
   "cell_type": "code",
   "execution_count": null,
   "metadata": {
    "collapsed": false
   },
   "outputs": [],
   "source": []
  },
  {
   "cell_type": "code",
   "execution_count": null,
   "metadata": {
    "collapsed": false
   },
   "outputs": [],
   "source": []
  },
  {
   "cell_type": "code",
   "execution_count": 14,
   "metadata": {
    "collapsed": false
   },
   "outputs": [],
   "source": [
    "uniprotID = 'P12931'"
   ]
  },
  {
   "cell_type": "code",
   "execution_count": 15,
   "metadata": {
    "collapsed": true
   },
   "outputs": [],
   "source": [
    "from urllib2 import urlopen\n",
    "from lxml import objectify\n",
    "\n",
    "# Define url from which to download xml.\n",
    "url='http://www.uniprot.org/uniprot/'\n",
    "r1 = urlopen(url+'%s' % uniprotID +'.xml')\n",
    "\n",
    "# Read xml file.\n",
    "my_xml = r1.read()\n",
    "# Take out annoying head that makes xml file difficult to parse.\n",
    "my_xml = my_xml.replace('<uniprot xmlns=\"http://uniprot.org/uniprot\" xmlns:xsi=\"http://www.w3.org/2001/XMLSchema-instance\" xsi:schemaLocation=\"http://uniprot.org/uniprot http://www.uniprot.org/support/docs/uniprot.xsd\">','<uniprot>', 1)\n",
    "\n",
    "# Write xml file.\n",
    "with open(\"%s.xml\" % uniprotID,\"w\") as file:\n",
    "     file.write(my_xml)\n",
    "     \n",
    "# Define list of PDBs from uniprot xml.\n",
    "\n",
    "root = objectify.fromstring(my_xml)"
   ]
  },
  {
   "cell_type": "code",
   "execution_count": 16,
   "metadata": {
    "collapsed": true
   },
   "outputs": [],
   "source": [
    "uniprot_sequence = [element.text for element in root.findall('.//sequence')]"
   ]
  },
  {
   "cell_type": "code",
   "execution_count": 17,
   "metadata": {
    "collapsed": false
   },
   "outputs": [
    {
     "data": {
      "text/plain": [
       "[None,\n",
       " None,\n",
       " '\\nMGSNKSKPKDASQRRRSLEPAENVHGAGGGAFPASQTPSKPASADGHRGPSAAFAPAAAE\\nPKLFGGFNSSDTVTSPQRAGPLAGGVTTFVALYDYESRTETDLSFKKGERLQIVNNTEGD\\nWWLAHSLSTGQTGYIPSNYVAPSDSIQAEEWYFGKITRRESERLLLNAENPRGTFLVRES\\nETTKGAYCLSVSDFDNAKGLNVKHYKIRKLDSGGFYITSRTQFNSLQQLVAYYSKHADGL\\nCHRLTTVCPTSKPQTQGLAKDAWEIPRESLRLEVKLGQGCFGEVWMGTWNGTTRVAIKTL\\nKPGTMSPEAFLQEAQVMKKLRHEKLVQLYAVVSEEPIYIVTEYMSKGSLLDFLKGETGKY\\nLRLPQLVDMAAQIASGMAYVERMNYVHRDLRAANILVGENLVCKVADFGLARLIEDNEYT\\nARQGAKFPIKWTAPEAALYGRFTIKSDVWSFGILLTELTTKGRVPYPGMVNREVLDQVER\\nGYRMPCPPECPESLHDLMCQCWRKEPEERPTFEYLQAFLEDYFTSTEPQYQPGENL\\n']"
      ]
     },
     "execution_count": 17,
     "metadata": {},
     "output_type": "execute_result"
    }
   ],
   "source": [
    "uniprot_sequence"
   ]
  },
  {
   "cell_type": "code",
   "execution_count": 18,
   "metadata": {
    "collapsed": false
   },
   "outputs": [
    {
     "data": {
      "text/plain": [
       "'\\nMGSNKSKPKDASQRRRSLEPAENVHGAGGGAFPASQTPSKPASADGHRGPSAAFAPAAAE\\nPKLFGGFNSSDTVTSPQRAGPLAGGVTTFVALYDYESRTETDLSFKKGERLQIVNNTEGD\\nWWLAHSLSTGQTGYIPSNYVAPSDSIQAEEWYFGKITRRESERLLLNAENPRGTFLVRES\\nETTKGAYCLSVSDFDNAKGLNVKHYKIRKLDSGGFYITSRTQFNSLQQLVAYYSKHADGL\\nCHRLTTVCPTSKPQTQGLAKDAWEIPRESLRLEVKLGQGCFGEVWMGTWNGTTRVAIKTL\\nKPGTMSPEAFLQEAQVMKKLRHEKLVQLYAVVSEEPIYIVTEYMSKGSLLDFLKGETGKY\\nLRLPQLVDMAAQIASGMAYVERMNYVHRDLRAANILVGENLVCKVADFGLARLIEDNEYT\\nARQGAKFPIKWTAPEAALYGRFTIKSDVWSFGILLTELTTKGRVPYPGMVNREVLDQVER\\nGYRMPCPPECPESLHDLMCQCWRKEPEERPTFEYLQAFLEDYFTSTEPQYQPGENL\\n'"
      ]
     },
     "execution_count": 18,
     "metadata": {},
     "output_type": "execute_result"
    }
   ],
   "source": [
    "uniprot_sequence[2]"
   ]
  },
  {
   "cell_type": "code",
   "execution_count": 19,
   "metadata": {
    "collapsed": false
   },
   "outputs": [],
   "source": [
    "#uniprot_sequence = string.join(uniprot_sequence[2])\n",
    "uniprot_sequence = uniprot_sequence[2].replace('\\n','')"
   ]
  },
  {
   "cell_type": "code",
   "execution_count": 20,
   "metadata": {
    "collapsed": false
   },
   "outputs": [
    {
     "data": {
      "text/plain": [
       "'MGSNKSKPKDASQRRRSLEPAENVHGAGGGAFPASQTPSKPASADGHRGPSAAFAPAAAEPKLFGGFNSSDTVTSPQRAGPLAGGVTTFVALYDYESRTETDLSFKKGERLQIVNNTEGDWWLAHSLSTGQTGYIPSNYVAPSDSIQAEEWYFGKITRRESERLLLNAENPRGTFLVRESETTKGAYCLSVSDFDNAKGLNVKHYKIRKLDSGGFYITSRTQFNSLQQLVAYYSKHADGLCHRLTTVCPTSKPQTQGLAKDAWEIPRESLRLEVKLGQGCFGEVWMGTWNGTTRVAIKTLKPGTMSPEAFLQEAQVMKKLRHEKLVQLYAVVSEEPIYIVTEYMSKGSLLDFLKGETGKYLRLPQLVDMAAQIASGMAYVERMNYVHRDLRAANILVGENLVCKVADFGLARLIEDNEYTARQGAKFPIKWTAPEAALYGRFTIKSDVWSFGILLTELTTKGRVPYPGMVNREVLDQVERGYRMPCPPECPESLHDLMCQCWRKEPEERPTFEYLQAFLEDYFTSTEPQYQPGENL'"
      ]
     },
     "execution_count": 20,
     "metadata": {},
     "output_type": "execute_result"
    }
   ],
   "source": [
    "uniprot_sequence"
   ]
  },
  {
   "cell_type": "code",
   "execution_count": 23,
   "metadata": {
    "collapsed": false
   },
   "outputs": [
    {
     "data": {
      "text/plain": [
       "Seq('DXPNDRXPXLXRXICRPRDSPRTRXEIPRESLRLEVKLGQGCFGEVWMGTWNGT...XXX', HasStopCodon(ExtendedIUPACProtein(), '*'))"
      ]
     },
     "execution_count": 23,
     "metadata": {},
     "output_type": "execute_result"
    }
   ],
   "source": [
    "\n",
    "sequencing_result\n"
   ]
  },
  {
   "cell_type": "code",
   "execution_count": null,
   "metadata": {
    "collapsed": true
   },
   "outputs": [],
   "source": []
  },
  {
   "cell_type": "code",
   "execution_count": 45,
   "metadata": {
    "collapsed": false
   },
   "outputs": [],
   "source": [
    "alignments = pairwise2.align.globalxx(sequencing_result, uniprot_sequence)"
   ]
  },
  {
   "cell_type": "code",
   "execution_count": 46,
   "metadata": {
    "collapsed": false
   },
   "outputs": [
    {
     "data": {
      "text/plain": [
       "('---------D-------X-P--N---------------------D--R------------------------------X-P-------------------X-L----X-R-------------------------------------------X-I----C-R-------P------------------------------------R--D-------SPRT---------------------R------------------X-EIPRESLRLEVKLGQGCFGEVWMGTWNGTTRVXIKTLKPGTMSPEAFLQEAQVMKKXRHEKLVQLYAVVSEEPIYIVIEYMSKGSLLDFLKGETGKYLRLPQLVDMAAQIASGMAYVERMNYVHRDLRAANILVGENLVCKVADFGLARLIEDNEYTARQGAKFPIKWTAPEAALYGRFTIKSDVWSFGILLTELTTKGRVPYPGMVNREVLDQVERGYRMPCPPECPESLHDLMCQCWRKEPEERPTFEYLQAFLEDYFTSTEPQYQPGENL*GSEFELRRQAXGRTRAPPPPPLRSGC*QXXXXXXXX',\n",
       " 'MGSNKSKPKDASQRRRSLEPAENVHGAGGGAFPASQTPSKPASADGHRGPSAAFAPAAAEPKLFGGFNSSDTVTSPQRAGPLAGGVTTFVALYDYESRTETDLSFKKGERLQIVNNTEGDWWLAHSLSTGQTGYIPSNYVAPSDSIQAEEWYFGKITRRESERLLLNAENPRGTFLVRESETTKGAYCLSVSDFDNAKGLNVKHYKIRKLDSGGFYITS-RTQFNSLQQLVAYYSKHADGLCHRLTTVCPTSKPQTQGLAKDAWEIPRESLRLEVKLGQGCFGEVWMGTWNGTTRVAIKTLKPGTMSPEAFLQEAQVMKKLRHEKLVQLYAVVSEEPIYIVTEYMSKGSLLDFLKGETGKYLRLPQLVDMAAQIASGMAYVERMNYVHRDLRAANILVGENLVCKVADFGLARLIEDNEYTARQGAKFPIKWTAPEAALYGRFTIKSDVWSFGILLTELTTKGRVPYPGMVNREVLDQVERGYRMPCPPECPESLHDLMCQCWRKEPEERPTFEYLQAFLEDYFTSTEPQYQPGEN-----------------------L--------------',\n",
       " 287.0,\n",
       " 0,\n",
       " 574)"
      ]
     },
     "execution_count": 46,
     "metadata": {},
     "output_type": "execute_result"
    }
   ],
   "source": [
    "alignments[0]"
   ]
  },
  {
   "cell_type": "code",
   "execution_count": null,
   "metadata": {
    "collapsed": true
   },
   "outputs": [],
   "source": []
  }
 ],
 "metadata": {
  "kernelspec": {
   "display_name": "Python 2",
   "language": "python",
   "name": "python2"
  },
  "language_info": {
   "codemirror_mode": {
    "name": "ipython",
    "version": 2
   },
   "file_extension": ".py",
   "mimetype": "text/x-python",
   "name": "python",
   "nbconvert_exporter": "python",
   "pygments_lexer": "ipython2",
   "version": "2.7.11"
  }
 },
 "nbformat": 4,
 "nbformat_minor": 0
}
